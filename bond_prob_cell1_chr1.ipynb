{
 "cells": [
  {
   "attachments": {},
   "cell_type": "markdown",
   "metadata": {},
   "source": [
    "# Bond Probability Visualizations"
   ]
  },
  {
   "cell_type": "code",
   "execution_count": null,
   "metadata": {},
   "outputs": [],
   "source": [
    "from jie.jie.aligner import log_bond\n",
    "import pandas as pd\n",
    "import matplotlib.pyplot as plt\n",
    "import seaborn as sns\n",
    "import math\n",
    "from collections import Counter"
   ]
  },
  {
   "cell_type": "code",
   "execution_count": null,
   "metadata": {},
   "outputs": [],
   "source": [
    "l_p_bp = 150.\n",
    "nm_per_bp = .0004\n",
    "pixel_dist = 100."
   ]
  },
  {
   "cell_type": "code",
   "execution_count": null,
   "metadata": {},
   "outputs": [],
   "source": [
    "cell_id = 1\n",
    "chr = 1"
   ]
  },
  {
   "cell_type": "code",
   "execution_count": null,
   "metadata": {},
   "outputs": [],
   "source": [
    "# divide by cell id\n",
    "all_cells_file = 'Table_S1_pgp1_data_table.csv'\n",
    "all_cells = pd.read_csv(all_cells_file)\n",
    "cell_data = all_cells[all_cells.cell_id==cell_id]\n",
    "\n",
    "# make data processing edits - see walkthru 00\n",
    "cols_to_use = ['x_um', 'y_um', 'z_um', 'hg38_pos']\n",
    "new_cols = ['x_hat', 'y_hat', 'z_hat', 'hyb']\n",
    "\n",
    "# feed cell into find_all_chr\n",
    "chrs = sorted(list(Counter(cell_data.hg38_chr).keys()))\n",
    "chr_data = cell_data.loc[cell_data.hg38_chr == chr, cols_to_use].reset_index(drop=True)"
   ]
  },
  {
   "cell_type": "code",
   "execution_count": null,
   "metadata": {},
   "outputs": [],
   "source": [
    "def calc_bond_prob (p1, p2, corr_fac=nm_per_bp/pixel_dist, l_p_bp=l_p_bp):\n",
    "    '''\n",
    "        p1, p2: should be in (x,y,z, bp) format\n",
    "        corr_fac: scale genomic dist (bp) into pixels (e.g nm_per_bp / pixel_dist)\n",
    "        l_p_bp: persistence length in bp\n",
    "    '''\n",
    "    # persistence length\n",
    "    l_p = l_p_bp * corr_fac\n",
    "    # observed distance between points\n",
    "    ideal = abs(p2[3] - p1[3])\n",
    "    observed = math.dist(p1[0:3], p2[0:3])\n",
    "    return log_bond(l_p, ideal, observed)"
   ]
  },
  {
   "cell_type": "code",
   "execution_count": null,
   "metadata": {},
   "outputs": [],
   "source": [
    "# create heatmap of bond probs\n",
    "def pairwise_bond_prob (data):\n",
    "    '''\n",
    "    input:\n",
    "        data: must have cols [x_um, y_um, z_um, hg38_pos]\n",
    "    output:\n",
    "        probs_matrix: matrix of probabilities (dataframe)\n",
    "        probs_list: dataframe of pairwise probabilities with corresponding points\n",
    "                    and extra info (genomic and euclidean distance)\n",
    "    '''\n",
    "    nrows = len(data.index)\n",
    "    row_range = range(nrows)\n",
    "    print(data.head())\n",
    "    probs_matrix = pd.DataFrame(index=data.hg38_pos, columns=data.hg38_pos, dtype=float)\n",
    "    out_cols = ['x_um_1', 'y_um_1', 'z_um_1', 'hg38_bp_1', \n",
    "                'x_um_2', 'y_um_2', 'z_um_2', 'hg38_bp_2', \n",
    "                'prob', 'dist_bp', 'dist_bp_abs', 'dist_euc']\n",
    "    probs_w_coords = pd.DataFrame(columns=out_cols, dtype=float)\n",
    "\n",
    "    for i in row_range:\n",
    "        for j in range(i+1,nrows):\n",
    "            p1 = data.iloc[i]\n",
    "            p2 = data.iloc[j]\n",
    "            prob = calc_bond_prob(tuple(p1), tuple(p2))\n",
    "            probs_matrix.iloc[i,j] = prob\n",
    "            probs_matrix.iloc[j,i] = prob\n",
    "            dist_bp = p2[3] - p1[3]\n",
    "            dist_euc = math.dist(p1[0:3], p2[0:3])\n",
    "            out_data = list(p1) + list(p2) + [prob, dist_bp, abs(dist_bp), dist_euc]\n",
    "            new_row = pd.DataFrame(out_data, index=out_cols).T \n",
    "            probs_w_coords = pd.concat([probs_w_coords, new_row],axis=0)\n",
    "    return probs_matrix, probs_w_coords"
   ]
  },
  {
   "cell_type": "code",
   "execution_count": null,
   "metadata": {},
   "outputs": [],
   "source": [
    "probs_matrix, probs = pairwise_bond_prob(chr_data)"
   ]
  },
  {
   "cell_type": "code",
   "execution_count": null,
   "metadata": {},
   "outputs": [],
   "source": [
    "def score_heatmap (probs_matrix):\n",
    "    sns.heatmap(data=probs_matrix.sort_index(axis=0).sort_index(axis=1))\n",
    "    plt.title('Log bond probabilities ')\n",
    "    plt.tight_layout()\n",
    "    plt.show()\n",
    "    #plt.savefig('')\n",
    "    plt.clf()\n",
    "\n",
    "score_heatmap(probs_matrix)"
   ]
  },
  {
   "cell_type": "code",
   "execution_count": null,
   "metadata": {},
   "outputs": [],
   "source": [
    "def score_hist (probs):\n",
    "    sns.histplot(x=probs['prob'])\n",
    "    plt.xlabel('log bond probabilities')\n",
    "    plt.show()\n",
    "    #plt.savefig('')\n",
    "    plt.clf()\n",
    "\n",
    "score_hist(probs)"
   ]
  },
  {
   "cell_type": "code",
   "execution_count": null,
   "metadata": {},
   "outputs": [],
   "source": [
    "# score scatterplots\n",
    "def score_v_x (data, x, xlabel=None):\n",
    "    sns.scatterplot(data, x=x, y=\"prob\")\n",
    "    plt.ylabel('log bond probabilities')\n",
    "    plt.title(f'Log bond probabilites vs. {xlabel}')\n",
    "    if xlabel is not None:\n",
    "        plt.xlabel(xlabel)\n",
    "    plt.show()\n",
    "    #plt.savefig('')\n",
    "    plt.clf()"
   ]
  },
  {
   "cell_type": "code",
   "execution_count": null,
   "metadata": {},
   "outputs": [],
   "source": [
    "# A scatter plot of bond score versus genomic distance\n",
    "def score_v_distance_bp (probs):\n",
    "    score_v_x(data=probs, x='dist_bp_abs', xlabel=\"Absolute genomic distance\")\n",
    "\n",
    "score_v_distance_bp(probs)"
   ]
  },
  {
   "cell_type": "code",
   "execution_count": null,
   "metadata": {},
   "outputs": [],
   "source": [
    "# and another one of bond scores vs euclidian distance\n",
    "def score_v_distance_euc (probs):\n",
    "    score_v_x(data=probs, x='dist_euc', xlabel=\"Euclidean distance\")\n",
    "\n",
    "score_v_distance_euc(probs)"
   ]
  },
  {
   "cell_type": "code",
   "execution_count": null,
   "metadata": {},
   "outputs": [],
   "source": [
    "'''Plot all of the chr1 reads in xyz space and for any given point, color \n",
    "all other points by the bond score with that point (maybe make the given point\n",
    "bigger or a completely different color so we can find it)'''\n",
    "def visualize_reads (probs, p):\n",
    "    \"\"\"\n",
    "    input:\n",
    "        probs:\n",
    "        p: (x, y, z, bp)\n",
    "    \"\"\"\n",
    "    # todo weird column stuff is not ideal\n",
    "    # isolate pairs that include p - todo does this work??\n",
    "    p_pairs_1 = probs.loc[(probs.x_um_1 == p[0])&\n",
    "                        (probs.y_um_1 == p[1])&\n",
    "                        (probs.z_um_1 == p[2])].drop(columns=['x_um_1', 'y_um_1', 'z_um_1', 'hg38_bp_1'])\n",
    "    print(p_pairs_1)\n",
    "    p_pairs_2 = probs.loc[(probs.x_um_2 == p[0])&\n",
    "                        (probs.y_um_2 == p[1])&\n",
    "                        (probs.z_um_2 == p[2])].drop(columns=['x_um_2', 'y_um_2', 'z_um_2', 'hg38_bp_2'])\n",
    "    new_cols = ['x_um', 'y_um', 'z_um', 'hg35_bp', 'prob', 'dist_bp', 'dist_bp_abs', 'dist_euc']\n",
    "    p_pairs_1.columns = new_cols\n",
    "    p_pairs_2.columns = new_cols\n",
    "    p_pairs = pd.concat([p_pairs_1, p_pairs_2], axis=0, ignore_index=True)\n",
    "    plot = plt.axes(projection='3d')\n",
    "    plot.scatter(xs=p_pairs['x_um'], ys=p_pairs['y_um'], zs=p_pairs['z_um'], c=p_pairs['prob'])\n",
    "    plot.scatter(xs=p[0], ys=p[1], zs=p[2], s=[50],c=\"black\",marker=\"X\")\n",
    "    plt.title(f'3D visualization of chromosome points\\nColored by distance from ({p[0]:.2f},{p[1]:.2f},{p[2]:.2f})')\n",
    "    plt.show()\n",
    "    plt.clf\n",
    "\n",
    "    # sanity check - color by euc/gen distance TODO\n",
    "\n",
    "visualize_reads(probs)"
   ]
  }
 ],
 "metadata": {
  "language_info": {
   "name": "python"
  },
  "orig_nbformat": 4
 },
 "nbformat": 4,
 "nbformat_minor": 2
}
